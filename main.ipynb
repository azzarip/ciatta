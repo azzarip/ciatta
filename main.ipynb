{
 "cells": [
  {
   "cell_type": "code",
   "execution_count": 5,
   "metadata": {},
   "outputs": [],
   "source": [
    "import pandas as pd\n",
    "import numpy as np"
   ]
  },
  {
   "cell_type": "code",
   "execution_count": 6,
   "metadata": {},
   "outputs": [],
   "source": [
    "def openFile(file) -> pd.DataFrame:\n",
    "    return pd.read_table(file, header = [3], encoding = 'ANSI', sep = ',')\n"
   ]
  },
  {
   "cell_type": "code",
   "execution_count": 8,
   "metadata": {},
   "outputs": [
    {
     "data": {
      "text/html": [
       "<div>\n",
       "<style scoped>\n",
       "    .dataframe tbody tr th:only-of-type {\n",
       "        vertical-align: middle;\n",
       "    }\n",
       "\n",
       "    .dataframe tbody tr th {\n",
       "        vertical-align: top;\n",
       "    }\n",
       "\n",
       "    .dataframe thead th {\n",
       "        text-align: right;\n",
       "    }\n",
       "</style>\n",
       "<table border=\"1\" class=\"dataframe\">\n",
       "  <thead>\n",
       "    <tr style=\"text-align: right;\">\n",
       "      <th></th>\n",
       "      <th>s</th>\n",
       "      <th>N</th>\n",
       "      <th>mm</th>\n",
       "      <th>mm.1</th>\n",
       "    </tr>\n",
       "  </thead>\n",
       "  <tbody>\n",
       "    <tr>\n",
       "      <th>0</th>\n",
       "      <td>0.019932</td>\n",
       "      <td>0.016736</td>\n",
       "      <td>0.000012</td>\n",
       "      <td>90.0000</td>\n",
       "    </tr>\n",
       "    <tr>\n",
       "      <th>1</th>\n",
       "      <td>0.079932</td>\n",
       "      <td>0.050880</td>\n",
       "      <td>0.000012</td>\n",
       "      <td>90.0000</td>\n",
       "    </tr>\n",
       "    <tr>\n",
       "      <th>2</th>\n",
       "      <td>0.099932</td>\n",
       "      <td>0.033807</td>\n",
       "      <td>0.000012</td>\n",
       "      <td>90.0000</td>\n",
       "    </tr>\n",
       "    <tr>\n",
       "      <th>3</th>\n",
       "      <td>0.519932</td>\n",
       "      <td>-0.000336</td>\n",
       "      <td>0.000012</td>\n",
       "      <td>90.0000</td>\n",
       "    </tr>\n",
       "    <tr>\n",
       "      <th>4</th>\n",
       "      <td>0.659932</td>\n",
       "      <td>-0.017408</td>\n",
       "      <td>0.014358</td>\n",
       "      <td>90.0143</td>\n",
       "    </tr>\n",
       "    <tr>\n",
       "      <th>...</th>\n",
       "      <td>...</td>\n",
       "      <td>...</td>\n",
       "      <td>...</td>\n",
       "      <td>...</td>\n",
       "    </tr>\n",
       "    <tr>\n",
       "      <th>3445</th>\n",
       "      <td>107.840000</td>\n",
       "      <td>1.365420</td>\n",
       "      <td>53.602000</td>\n",
       "      <td>143.6020</td>\n",
       "    </tr>\n",
       "    <tr>\n",
       "      <th>3446</th>\n",
       "      <td>107.880000</td>\n",
       "      <td>1.365420</td>\n",
       "      <td>53.621900</td>\n",
       "      <td>143.6220</td>\n",
       "    </tr>\n",
       "    <tr>\n",
       "      <th>3447</th>\n",
       "      <td>107.920000</td>\n",
       "      <td>1.365420</td>\n",
       "      <td>53.640500</td>\n",
       "      <td>143.6400</td>\n",
       "    </tr>\n",
       "    <tr>\n",
       "      <th>3448</th>\n",
       "      <td>108.600000</td>\n",
       "      <td>1.348350</td>\n",
       "      <td>53.650000</td>\n",
       "      <td>143.6500</td>\n",
       "    </tr>\n",
       "    <tr>\n",
       "      <th>3449</th>\n",
       "      <td>109.120000</td>\n",
       "      <td>1.416640</td>\n",
       "      <td>53.650000</td>\n",
       "      <td>143.6500</td>\n",
       "    </tr>\n",
       "  </tbody>\n",
       "</table>\n",
       "<p>3450 rows × 4 columns</p>\n",
       "</div>"
      ],
      "text/plain": [
       "               s         N         mm      mm.1\n",
       "0       0.019932  0.016736   0.000012   90.0000\n",
       "1       0.079932  0.050880   0.000012   90.0000\n",
       "2       0.099932  0.033807   0.000012   90.0000\n",
       "3       0.519932 -0.000336   0.000012   90.0000\n",
       "4       0.659932 -0.017408   0.014358   90.0143\n",
       "...          ...       ...        ...       ...\n",
       "3445  107.840000  1.365420  53.602000  143.6020\n",
       "3446  107.880000  1.365420  53.621900  143.6220\n",
       "3447  107.920000  1.365420  53.640500  143.6400\n",
       "3448  108.600000  1.348350  53.650000  143.6500\n",
       "3449  109.120000  1.416640  53.650000  143.6500\n",
       "\n",
       "[3450 rows x 4 columns]"
      ]
     },
     "execution_count": 8,
     "metadata": {},
     "output_type": "execute_result"
    }
   ],
   "source": [
    "filedata = openFile('data/Extrudat20230818_13.TRA')\n",
    "filedata"
   ]
  },
  {
   "cell_type": "code",
   "execution_count": 9,
   "metadata": {},
   "outputs": [],
   "source": [
    "def getStrain(data) -> pd.Series:\n",
    "    return np.log(filedata['mm.1'] / filedata['mm.1'][0])\n",
    "\n",
    "def getStress(data) -> pd.Series:\n",
    "    return filedata['N']"
   ]
  },
  {
   "cell_type": "code",
   "execution_count": 10,
   "metadata": {},
   "outputs": [],
   "source": [
    "def getStressStrain(data) -> pd.DataFrame:\n",
    "\n",
    "    df = pd.DataFrame({'strain': getStrain(data), 'stress': getStress(data)})\n",
    "    \n",
    "    max_stress_row = df[df['stress'] == df['stress'].max()]\n",
    "    max_strain_index = max_stress_row.index[0]\n",
    "\n",
    "    cut_df = df.iloc[:max_strain_index + 1]\n",
    "\n",
    "    return cut_df"
   ]
  },
  {
   "cell_type": "code",
   "execution_count": 11,
   "metadata": {},
   "outputs": [],
   "source": [
    "stress = getStressStrain(filedata)"
   ]
  },
  {
   "cell_type": "code",
   "execution_count": 12,
   "metadata": {},
   "outputs": [],
   "source": [
    "def getBestFit(stressData, window = 500):\n",
    "    step = 10\n",
    "    \n",
    "    left = 0\n",
    "    right = window\n",
    "    coeff = pd.DataFrame()\n",
    "    from sklearn.linear_model import LinearRegression\n",
    "    model = LinearRegression()\n",
    "    lengthStressData = len(stressData)\n",
    "    \n",
    "    while True:\n",
    "        if right > lengthStressData: \n",
    "            break\n",
    "\n",
    "        data = stressData[left:right]\n",
    "\n",
    "        model.fit(data[['strain']], data[['stress']])\n",
    "        slope = model.coef_[0]\n",
    "        intercept = model.intercept_\n",
    "        y_exp = slope * data['strain'] + intercept\n",
    "        error = (data['stress'] - y_exp)**2\n",
    "\n",
    "        coeff = pd.concat([coeff, pd.DataFrame({'strain': data.iloc[100].strain, 'slope': slope, 'intercept': intercept, 'error': error.sum()})],axis=0)\n",
    "\n",
    "        left += step\n",
    "        right += step\n",
    "        \n",
    "    bestFit = coeff[coeff['error'] == coeff['error'].min()].iloc[0]\n",
    "    return bestFit"
   ]
  },
  {
   "cell_type": "code",
   "execution_count": 13,
   "metadata": {},
   "outputs": [
    {
     "data": {
      "text/plain": [
       "[<matplotlib.lines.Line2D at 0x23f3f841960>]"
      ]
     },
     "execution_count": 13,
     "metadata": {},
     "output_type": "execute_result"
    },
    {
     "data": {
      "image/png": "[encoded data removed]",
      "text/plain": [
       "<Figure size 640x480 with 1 Axes>"
      ]
     },
     "metadata": {},
     "output_type": "display_data"
    }
   ],
   "source": [
    "def plotStressStrain(data):\n",
    "    import matplotlib.pyplot as plt\n",
    "    plt.plot(data['strain'], data['stress'])\n",
    "    return plt\n",
    "\n",
    "import matplotlib.pyplot as plt\n",
    "\n",
    "plotStressStrain(stress)\n",
    "best = getBestFit(stress)\n",
    "\n",
    "max_stress = stress[-1:]['stress'].values[0]\n",
    "\n",
    "max_strain = (max_stress - best.intercept) / best.slope\n",
    "limited_strain = stress[stress['strain'] < max_strain]['strain']\n",
    "\n",
    "line = best.slope * limited_strain + best.intercept\n",
    "other = best.slope * (limited_strain) + best.intercept\n",
    "\n",
    "plt.plot(limited_strain, line, linestyle='--')\n",
    "plt.plot(limited_strain + 0.02, other, linestyle='dotted')"
   ]
  },
  {
   "cell_type": "code",
   "execution_count": 14,
   "metadata": {},
   "outputs": [],
   "source": [
    "max_stress = stress[-1:]['stress'].values[0]\n",
    "max_strain = (max_stress - best.intercept) / best.slope\n",
    "limited_strain = stress[stress['strain'] < max_strain]['strain']\n"
   ]
  },
  {
   "cell_type": "code",
   "execution_count": 17,
   "metadata": {},
   "outputs": [
    {
     "data": {
      "text/plain": [
       "49.5084"
      ]
     },
     "execution_count": 17,
     "metadata": {},
     "output_type": "execute_result"
    }
   ],
   "source": [
    "stress['stress'].max()"
   ]
  }
 ],
 "metadata": {
  "kernelspec": {
   "display_name": "data_analysis",
   "language": "python",
   "name": "python3"
  },
  "language_info": {
   "codemirror_mode": {
    "name": "ipython",
    "version": 3
   },
   "file_extension": ".py",
   "mimetype": "text/x-python",
   "name": "python",
   "nbconvert_exporter": "python",
   "pygments_lexer": "ipython3",
   "version": "3.10.9 | packaged by Anaconda, Inc. | (main, Mar  1 2023, 18:18:15) [MSC v.1916 64 bit (AMD64)]"
  },
  "orig_nbformat": 4,
  "vscode": {
   "interpreter": {
    "hash": "ddb56502a85e2612012d9ad0764e22b0c287e70e9aee4d5cc6cb7e2a105ed617"
   }
  }
 },
 "nbformat": 4,
 "nbformat_minor": 2
}

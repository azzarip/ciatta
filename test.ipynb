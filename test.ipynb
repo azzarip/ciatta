{
 "cells": [
  {
   "cell_type": "code",
   "execution_count": 2,
   "metadata": {},
   "outputs": [
    {
     "name": "stdout",
     "output_type": "stream",
     "text": [
      "20230918_1.TRA\n"
     ]
    },
    {
     "ename": "ImportError",
     "evalue": "cannot import name 'Result' from 'extrudion.results' (c:\\Users\\azzarip\\Desktop\\Projects\\Corinna\\extrudion\\extrudion\\results.py)",
     "output_type": "error",
     "traceback": [
      "\u001b[1;31m---------------------------------------------------------------------------\u001b[0m",
      "\u001b[1;31mImportError\u001b[0m                               Traceback (most recent call last)",
      "Cell \u001b[1;32mIn[2], line 2\u001b[0m\n\u001b[0;32m      1\u001b[0m \u001b[39mimport\u001b[39;00m \u001b[39mextrudion\u001b[39;00m \u001b[39mas\u001b[39;00m \u001b[39mex\u001b[39;00m\n\u001b[1;32m----> 2\u001b[0m ex\u001b[39m.\u001b[39;49manalyzeDirectory(\u001b[39m'\u001b[39;49m\u001b[39mdata\u001b[39;49m\u001b[39m'\u001b[39;49m)\n",
      "File \u001b[1;32mc:\\Users\\azzarip\\Desktop\\Projects\\Corinna\\extrudion\\extrudion\\extrudion.py:25\u001b[0m, in \u001b[0;36manalyzeDirectory\u001b[1;34m(folder_path, options)\u001b[0m\n\u001b[0;32m     23\u001b[0m \u001b[39mfor\u001b[39;00m file \u001b[39min\u001b[39;00m files:\n\u001b[0;32m     24\u001b[0m     \u001b[39mprint\u001b[39m(file)\n\u001b[1;32m---> 25\u001b[0m     result \u001b[39m=\u001b[39m analyzeFile(file, options)\n\u001b[0;32m     26\u001b[0m     results \u001b[39m=\u001b[39m pd\u001b[39m.\u001b[39mconcat([results, result])\n\u001b[0;32m     28\u001b[0m results\u001b[39m.\u001b[39mrename_axis(index\u001b[39m=\u001b[39m\u001b[39m'\u001b[39m\u001b[39mFile\u001b[39m\u001b[39m'\u001b[39m, inplace\u001b[39m=\u001b[39m\u001b[39mTrue\u001b[39;00m)\n",
      "File \u001b[1;32mc:\\Users\\azzarip\\Desktop\\Projects\\Corinna\\extrudion\\extrudion\\extrudion.py:39\u001b[0m, in \u001b[0;36manalyzeFile\u001b[1;34m(file, options)\u001b[0m\n\u001b[0;32m     35\u001b[0m \u001b[39mdef\u001b[39;00m \u001b[39manalyzeFile\u001b[39m(file, options \u001b[39m=\u001b[39m []):\n\u001b[0;32m     36\u001b[0m \u001b[39m    \u001b[39m\u001b[39m'''\u001b[39;00m\n\u001b[0;32m     37\u001b[0m \u001b[39m    Give a filename and a folder as a relative or absolute path, the script will analyze the .TAR files found and return a DataFrame containing the results.\u001b[39;00m\n\u001b[0;32m     38\u001b[0m \u001b[39m    '''\u001b[39;00m    \n\u001b[1;32m---> 39\u001b[0m     \u001b[39mfrom\u001b[39;00m \u001b[39m.\u001b[39;00m\u001b[39mresults\u001b[39;00m \u001b[39mimport\u001b[39;00m Result\n\u001b[0;32m     40\u001b[0m     \u001b[39mfrom\u001b[39;00m \u001b[39m.\u001b[39;00m\u001b[39mfiles\u001b[39;00m \u001b[39mimport\u001b[39;00m File\n\u001b[0;32m     42\u001b[0m     \u001b[39mreturn\u001b[39;00m File        \n",
      "\u001b[1;31mImportError\u001b[0m: cannot import name 'Result' from 'extrudion.results' (c:\\Users\\azzarip\\Desktop\\Projects\\Corinna\\extrudion\\extrudion\\results.py)"
     ]
    }
   ],
   "source": [
    "import extrudion as ex\n",
    "ex.analyzeDirectory('data')"
   ]
  }
 ],
 "metadata": {
  "kernelspec": {
   "display_name": "base",
   "language": "python",
   "name": "python3"
  },
  "language_info": {
   "codemirror_mode": {
    "name": "ipython",
    "version": 3
   },
   "file_extension": ".py",
   "mimetype": "text/x-python",
   "name": "python",
   "nbconvert_exporter": "python",
   "pygments_lexer": "ipython3",
   "version": "3.10.13"
  },
  "orig_nbformat": 4,
  "vscode": {
   "interpreter": {
    "hash": "e5150fadfed99c9aac1952beac983399fa1a48f1d594d4637f06d8c4f4f2fc6f"
   }
  }
 },
 "nbformat": 4,
 "nbformat_minor": 2
}

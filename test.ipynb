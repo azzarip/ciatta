{
 "cells": [
  {
   "cell_type": "code",
   "execution_count": 1,
   "metadata": {},
   "outputs": [
    {
     "ename": "AttributeError",
     "evalue": "'StressStrain' object has no attribute 'data'",
     "output_type": "error",
     "traceback": [
      "\u001b[1;31m---------------------------------------------------------------------------\u001b[0m",
      "\u001b[1;31mAttributeError\u001b[0m                            Traceback (most recent call last)",
      "Cell \u001b[1;32mIn[1], line 2\u001b[0m\n\u001b[0;32m      1\u001b[0m \u001b[39mimport\u001b[39;00m \u001b[39mextrudion\u001b[39;00m \u001b[39mas\u001b[39;00m \u001b[39mex\u001b[39;00m\n\u001b[1;32m----> 2\u001b[0m f \u001b[39m=\u001b[39m ex\u001b[39m.\u001b[39;49manalyzeDirectory(\u001b[39m'\u001b[39;49m\u001b[39mdata\u001b[39;49m\u001b[39m'\u001b[39;49m, options\u001b[39m=\u001b[39;49m{\u001b[39m'\u001b[39;49m\u001b[39msample_area\u001b[39;49m\u001b[39m'\u001b[39;49m: \u001b[39m10\u001b[39;49m, \u001b[39m'\u001b[39;49m\u001b[39minitial_length\u001b[39;49m\u001b[39m'\u001b[39;49m: \u001b[39m20\u001b[39;49m})\n",
      "File \u001b[1;32mc:\\Users\\azzarip\\Desktop\\Projects\\Corinna\\extrudion\\extrudion\\extrudion.py:11\u001b[0m, in \u001b[0;36manalyzeDirectory\u001b[1;34m(folder_path, options)\u001b[0m\n\u001b[0;32m      6\u001b[0m \u001b[39m\u001b[39m\u001b[39m'''\u001b[39;00m\n\u001b[0;32m      7\u001b[0m \u001b[39mGive a folder path as a relative or absolute path, the script will analyze all the .TAR files found in the directory and return a DataFrame containing the results.\u001b[39;00m\n\u001b[0;32m      8\u001b[0m \u001b[39mLeaving returns the Current Working Directory.\u001b[39;00m\n\u001b[0;32m      9\u001b[0m \u001b[39m'''\u001b[39;00m\n\u001b[0;32m     10\u001b[0m \u001b[39mfrom\u001b[39;00m \u001b[39m.\u001b[39;00m\u001b[39mfiles\u001b[39;00m \u001b[39mimport\u001b[39;00m TERFolder\n\u001b[1;32m---> 11\u001b[0m \u001b[39mreturn\u001b[39;00m TERFolder(folder_path)\u001b[39m.\u001b[39;49manalyze(options)\n",
      "File \u001b[1;32mc:\\Users\\azzarip\\Desktop\\Projects\\Corinna\\extrudion\\extrudion\\files.py:21\u001b[0m, in \u001b[0;36mTERFolder.analyze\u001b[1;34m(self, options)\u001b[0m\n\u001b[0;32m     18\u001b[0m \u001b[39mimport\u001b[39;00m \u001b[39mpandas\u001b[39;00m \u001b[39mas\u001b[39;00m \u001b[39mpd\u001b[39;00m\n\u001b[0;32m     20\u001b[0m \u001b[39mfor\u001b[39;00m file \u001b[39min\u001b[39;00m \u001b[39mself\u001b[39m\u001b[39m.\u001b[39mfile_list:\n\u001b[1;32m---> 21\u001b[0m     result \u001b[39m=\u001b[39m TERFile(\u001b[39mself\u001b[39;49m\u001b[39m.\u001b[39;49mfolder_path \u001b[39m+\u001b[39;49m \u001b[39m'\u001b[39;49m\u001b[39m/\u001b[39;49m\u001b[39m'\u001b[39;49m \u001b[39m+\u001b[39;49m file)\u001b[39m.\u001b[39;49manalyze(options)\n\u001b[0;32m     22\u001b[0m     \u001b[39mself\u001b[39m\u001b[39m.\u001b[39mresults \u001b[39m=\u001b[39m pd\u001b[39m.\u001b[39mconcat([\u001b[39mself\u001b[39m\u001b[39m.\u001b[39mresults, result])\n",
      "File \u001b[1;32mc:\\Users\\azzarip\\Desktop\\Projects\\Corinna\\extrudion\\extrudion\\files.py:59\u001b[0m, in \u001b[0;36mTERFile.analyze\u001b[1;34m(self, options)\u001b[0m\n\u001b[0;32m     57\u001b[0m \u001b[39mdef\u001b[39;00m \u001b[39manalyze\u001b[39m(\u001b[39mself\u001b[39m, options):\n\u001b[0;32m     58\u001b[0m     \u001b[39mfrom\u001b[39;00m \u001b[39m.\u001b[39;00m\u001b[39manalyzers\u001b[39;00m \u001b[39mimport\u001b[39;00m StressStrain      \n\u001b[1;32m---> 59\u001b[0m     ss \u001b[39m=\u001b[39m StressStrain(\u001b[39mself\u001b[39;49m\u001b[39m.\u001b[39;49mdata, sample_area\u001b[39m=\u001b[39;49moptions[\u001b[39m'\u001b[39;49m\u001b[39msample_area\u001b[39;49m\u001b[39m'\u001b[39;49m], initial_length\u001b[39m=\u001b[39;49moptions[\u001b[39m'\u001b[39;49m\u001b[39minitial_length\u001b[39;49m\u001b[39m'\u001b[39;49m])\n\u001b[0;32m     60\u001b[0m     \u001b[39mfrom\u001b[39;00m \u001b[39m.\u001b[39;00m\u001b[39mfit\u001b[39;00m \u001b[39mimport\u001b[39;00m Fit\n\u001b[0;32m     61\u001b[0m     \u001b[39mreturn\u001b[39;00m Fit(ss)\u001b[39m.\u001b[39mresults\n",
      "File \u001b[1;32mc:\\Users\\azzarip\\Desktop\\Projects\\Corinna\\extrudion\\extrudion\\analyzers.py:5\u001b[0m, in \u001b[0;36mStressStrain.__init__\u001b[1;34m(self, raw, sample_area, initial_length)\u001b[0m\n\u001b[0;32m      2\u001b[0m \u001b[39mdef\u001b[39;00m \u001b[39m__init__\u001b[39m(\u001b[39mself\u001b[39m, raw, sample_area, initial_length):\n\u001b[0;32m      3\u001b[0m     \u001b[39mself\u001b[39m\u001b[39m.\u001b[39mraw \u001b[39m=\u001b[39m raw\n\u001b[1;32m----> 5\u001b[0m     strain \u001b[39m=\u001b[39m \u001b[39mself\u001b[39;49m\u001b[39m.\u001b[39;49mgetStrain(sample_area)\n\u001b[0;32m      6\u001b[0m     stress \u001b[39m=\u001b[39m \u001b[39mself\u001b[39m\u001b[39m.\u001b[39mgetStress(initial_length)\n\u001b[0;32m      8\u001b[0m     \u001b[39mimport\u001b[39;00m \u001b[39mpandas\u001b[39;00m \u001b[39mas\u001b[39;00m \u001b[39mpd\u001b[39;00m\n",
      "File \u001b[1;32mc:\\Users\\azzarip\\Desktop\\Projects\\Corinna\\extrudion\\extrudion\\analyzers.py:17\u001b[0m, in \u001b[0;36mStressStrain.getStrain\u001b[1;34m(self, initial_length)\u001b[0m\n\u001b[0;32m     15\u001b[0m \u001b[39mdef\u001b[39;00m \u001b[39mgetStrain\u001b[39m(\u001b[39mself\u001b[39m, initial_length):\n\u001b[0;32m     16\u001b[0m     \u001b[39mfrom\u001b[39;00m \u001b[39mnumpy\u001b[39;00m \u001b[39mimport\u001b[39;00m log\n\u001b[1;32m---> 17\u001b[0m     length \u001b[39m=\u001b[39m \u001b[39mself\u001b[39;49m\u001b[39m.\u001b[39;49mdata[\u001b[39m'\u001b[39m\u001b[39mmm\u001b[39m\u001b[39m'\u001b[39m] \u001b[39m+\u001b[39m initial_length\n\u001b[0;32m     18\u001b[0m     \u001b[39mreturn\u001b[39;00m log(length \u001b[39m/\u001b[39m initial_length)\n",
      "\u001b[1;31mAttributeError\u001b[0m: 'StressStrain' object has no attribute 'data'"
     ]
    }
   ],
   "source": [
    "import extrudion as ex\n",
    "f = ex.analyzeDirectory('data', options={'sample_area': 10, 'initial_length': 20})"
   ]
  },
  {
   "cell_type": "code",
   "execution_count": null,
   "metadata": {},
   "outputs": [],
   "source": []
  }
 ],
 "metadata": {
  "kernelspec": {
   "display_name": "base",
   "language": "python",
   "name": "python3"
  },
  "language_info": {
   "codemirror_mode": {
    "name": "ipython",
    "version": 3
   },
   "file_extension": ".py",
   "mimetype": "text/x-python",
   "name": "python",
   "nbconvert_exporter": "python",
   "pygments_lexer": "ipython3",
   "version": "3.10.13"
  },
  "orig_nbformat": 4,
  "vscode": {
   "interpreter": {
    "hash": "e5150fadfed99c9aac1952beac983399fa1a48f1d594d4637f06d8c4f4f2fc6f"
   }
  }
 },
 "nbformat": 4,
 "nbformat_minor": 2
}

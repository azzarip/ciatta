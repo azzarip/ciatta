{
 "cells": [
  {
   "cell_type": "code",
   "execution_count": 2,
   "metadata": {},
   "outputs": [
    {
     "name": "stdout",
     "output_type": "stream",
     "text": [
      "No .TRA files found in the folder.\n"
     ]
    },
    {
     "ename": "KeyError",
     "evalue": "\"None of ['File'] are in the columns\"",
     "output_type": "error",
     "traceback": [
      "\u001b[1;31m---------------------------------------------------------------------------\u001b[0m",
      "\u001b[1;31mKeyError\u001b[0m                                  Traceback (most recent call last)",
      "Cell \u001b[1;32mIn[2], line 2\u001b[0m\n\u001b[0;32m      1\u001b[0m \u001b[39mimport\u001b[39;00m \u001b[39mextrudion\u001b[39;00m \u001b[39mas\u001b[39;00m \u001b[39mex\u001b[39;00m\n\u001b[1;32m----> 2\u001b[0m ex\u001b[39m.\u001b[39;49manalyzeDirectory()\n",
      "File \u001b[1;32mc:\\Users\\azzarip\\Desktop\\Projects\\Corinna\\extrudion\\extrudion\\extrudion.py:11\u001b[0m, in \u001b[0;36manalyzeDirectory\u001b[1;34m(folder_path, options)\u001b[0m\n\u001b[0;32m      6\u001b[0m \u001b[39m\u001b[39m\u001b[39m'''\u001b[39;00m\n\u001b[0;32m      7\u001b[0m \u001b[39mGive a folder path as a relative or absolute path, the script will analyze all the .TAR files found in the directory and return a DataFrame containing the results.\u001b[39;00m\n\u001b[0;32m      8\u001b[0m \u001b[39mLeaving returns the Current Working Directory.\u001b[39;00m\n\u001b[0;32m      9\u001b[0m \u001b[39m'''\u001b[39;00m\n\u001b[0;32m     10\u001b[0m \u001b[39mfrom\u001b[39;00m \u001b[39mcolorama\u001b[39;00m \u001b[39mimport\u001b[39;00m init, Fore\n\u001b[1;32m---> 11\u001b[0m init()\n\u001b[0;32m     13\u001b[0m \u001b[39mprint\u001b[39m(Fore\u001b[39m.\u001b[39mRED \u001b[39m+\u001b[39m \u001b[39m\"\u001b[39m\u001b[39mThis is a red line\u001b[39m\u001b[39m\"\u001b[39m)\n\u001b[0;32m     14\u001b[0m \u001b[39mprint\u001b[39m(Fore\u001b[39m.\u001b[39mGREEN \u001b[39m+\u001b[39m \u001b[39m\"\u001b[39m\u001b[39mThis is a green line\u001b[39m\u001b[39m\"\u001b[39m)\n",
      "File \u001b[1;32mc:\\Users\\azzarip\\Desktop\\Projects\\Corinna\\extrudion\\extrudion\\files.py:24\u001b[0m, in \u001b[0;36mTRAFolder.analyze\u001b[1;34m(self, options)\u001b[0m\n\u001b[0;32m     22\u001b[0m     result[\u001b[39m'\u001b[39m\u001b[39mFile\u001b[39m\u001b[39m'\u001b[39m] \u001b[39m=\u001b[39m file\u001b[39m.\u001b[39mreplace(\u001b[39m'\u001b[39m\u001b[39m.TRA\u001b[39m\u001b[39m'\u001b[39m, \u001b[39m'\u001b[39m\u001b[39m'\u001b[39m)\n\u001b[0;32m     23\u001b[0m     \u001b[39mself\u001b[39m\u001b[39m.\u001b[39mresults \u001b[39m=\u001b[39m pd\u001b[39m.\u001b[39mconcat([\u001b[39mself\u001b[39m\u001b[39m.\u001b[39mresults, result])\n\u001b[1;32m---> 24\u001b[0m \u001b[39mreturn\u001b[39;00m \u001b[39mself\u001b[39;49m\u001b[39m.\u001b[39;49mresults\u001b[39m.\u001b[39;49mset_index(\u001b[39m'\u001b[39;49m\u001b[39mFile\u001b[39;49m\u001b[39m'\u001b[39;49m)\n",
      "File \u001b[1;32mc:\\Users\\azzarip\\AppData\\Local\\miniconda3\\lib\\site-packages\\pandas\\core\\frame.py:5873\u001b[0m, in \u001b[0;36mDataFrame.set_index\u001b[1;34m(self, keys, drop, append, inplace, verify_integrity)\u001b[0m\n\u001b[0;32m   5870\u001b[0m                 missing\u001b[39m.\u001b[39mappend(col)\n\u001b[0;32m   5872\u001b[0m \u001b[39mif\u001b[39;00m missing:\n\u001b[1;32m-> 5873\u001b[0m     \u001b[39mraise\u001b[39;00m \u001b[39mKeyError\u001b[39;00m(\u001b[39mf\u001b[39m\u001b[39m\"\u001b[39m\u001b[39mNone of \u001b[39m\u001b[39m{\u001b[39;00mmissing\u001b[39m}\u001b[39;00m\u001b[39m are in the columns\u001b[39m\u001b[39m\"\u001b[39m)\n\u001b[0;32m   5875\u001b[0m \u001b[39mif\u001b[39;00m inplace:\n\u001b[0;32m   5876\u001b[0m     frame \u001b[39m=\u001b[39m \u001b[39mself\u001b[39m\n",
      "\u001b[1;31mKeyError\u001b[0m: \"None of ['File'] are in the columns\""
     ]
    }
   ],
   "source": [
    "import extrudion as ex\n",
    "ex.analyzeDirectory()"
   ]
  },
  {
   "cell_type": "markdown",
   "metadata": {},
   "source": []
  }
 ],
 "metadata": {
  "kernelspec": {
   "display_name": "base",
   "language": "python",
   "name": "python3"
  },
  "language_info": {
   "codemirror_mode": {
    "name": "ipython",
    "version": 3
   },
   "file_extension": ".py",
   "mimetype": "text/x-python",
   "name": "python",
   "nbconvert_exporter": "python",
   "pygments_lexer": "ipython3",
   "version": "3.10.13"
  },
  "orig_nbformat": 4,
  "vscode": {
   "interpreter": {
    "hash": "e5150fadfed99c9aac1952beac983399fa1a48f1d594d4637f06d8c4f4f2fc6f"
   }
  }
 },
 "nbformat": 4,
 "nbformat_minor": 2
}

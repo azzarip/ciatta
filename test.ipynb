{
 "cells": [
  {
   "cell_type": "code",
   "execution_count": 2,
   "metadata": {},
   "outputs": [
    {
     "name": "stdout",
     "output_type": "stream",
     "text": [
      "123   456\n"
     ]
    },
    {
     "ename": "UFuncTypeError",
     "evalue": "ufunc 'add' did not contain a loop with signature matching types (dtype('float64'), dtype('<U3')) -> None",
     "output_type": "error",
     "traceback": [
      "\u001b[1;31m---------------------------------------------------------------------------\u001b[0m",
      "\u001b[1;31mUFuncTypeError\u001b[0m                            Traceback (most recent call last)",
      "Cell \u001b[1;32mIn[2], line 2\u001b[0m\n\u001b[0;32m      1\u001b[0m \u001b[39mimport\u001b[39;00m \u001b[39mextrudion\u001b[39;00m \u001b[39mas\u001b[39;00m \u001b[39mex\u001b[39;00m\n\u001b[1;32m----> 2\u001b[0m ex\u001b[39m.\u001b[39;49mstart(\u001b[39m'\u001b[39;49m\u001b[39m.\u001b[39;49m\u001b[39m\\\u001b[39;49m\u001b[39mdata\u001b[39;49m\u001b[39m'\u001b[39;49m)\n",
      "File \u001b[1;32mc:\\Users\\azzarip\\Desktop\\Projects\\Corinna\\extrudion\\extrudion\\extrudion.py:57\u001b[0m, in \u001b[0;36mstart\u001b[1;34m(folder_path)\u001b[0m\n\u001b[0;32m     54\u001b[0m         \u001b[39mprint\u001b[39m(\u001b[39m\"\u001b[39m\u001b[39mInvalid input. Please enter a valid number.\u001b[39m\u001b[39m\"\u001b[39m)\n\u001b[0;32m     56\u001b[0m \u001b[39mfrom\u001b[39;00m \u001b[39m.\u001b[39;00m\u001b[39mfiles\u001b[39;00m \u001b[39mimport\u001b[39;00m TRAFolder\n\u001b[1;32m---> 57\u001b[0m TRAFolder(folder_path)\u001b[39m.\u001b[39;49manalyze({\u001b[39m'\u001b[39;49m\u001b[39msample_area\u001b[39;49m\u001b[39m'\u001b[39;49m: sample_area, \u001b[39m'\u001b[39;49m\u001b[39minitial_length\u001b[39;49m\u001b[39m'\u001b[39;49m: initial_length})\n",
      "File \u001b[1;32mc:\\Users\\azzarip\\Desktop\\Projects\\Corinna\\extrudion\\extrudion\\files.py:24\u001b[0m, in \u001b[0;36mTRAFolder.analyze\u001b[1;34m(self, options)\u001b[0m\n\u001b[0;32m     21\u001b[0m \u001b[39mimport\u001b[39;00m \u001b[39mpandas\u001b[39;00m \u001b[39mas\u001b[39;00m \u001b[39mpd\u001b[39;00m\n\u001b[0;32m     23\u001b[0m \u001b[39mfor\u001b[39;00m file \u001b[39min\u001b[39;00m \u001b[39mself\u001b[39m\u001b[39m.\u001b[39mfile_list:\n\u001b[1;32m---> 24\u001b[0m     result \u001b[39m=\u001b[39m TRAFile(file, \u001b[39mself\u001b[39;49m\u001b[39m.\u001b[39;49mfolder_path)\u001b[39m.\u001b[39;49manalyze(options)\n\u001b[0;32m     25\u001b[0m     result[\u001b[39m'\u001b[39m\u001b[39mFile\u001b[39m\u001b[39m'\u001b[39m] \u001b[39m=\u001b[39m file\n\u001b[0;32m     26\u001b[0m     \u001b[39mself\u001b[39m\u001b[39m.\u001b[39mresults \u001b[39m=\u001b[39m pd\u001b[39m.\u001b[39mconcat([\u001b[39mself\u001b[39m\u001b[39m.\u001b[39mresults, result])\n",
      "File \u001b[1;32mc:\\Users\\azzarip\\Desktop\\Projects\\Corinna\\extrudion\\extrudion\\files.py:93\u001b[0m, in \u001b[0;36mTRAFile.analyze\u001b[1;34m(self, options)\u001b[0m\n\u001b[0;32m     90\u001b[0m \u001b[39mfrom\u001b[39;00m \u001b[39m.\u001b[39;00m\u001b[39mfit\u001b[39;00m \u001b[39mimport\u001b[39;00m Fit\n\u001b[0;32m     91\u001b[0m \u001b[39mfrom\u001b[39;00m \u001b[39m.\u001b[39;00m\u001b[39mplot\u001b[39;00m \u001b[39mimport\u001b[39;00m Plot\n\u001b[1;32m---> 93\u001b[0m data \u001b[39m=\u001b[39m StressStrain(\u001b[39mself\u001b[39;49m\u001b[39m.\u001b[39;49mdata, sample_area\u001b[39m=\u001b[39;49moptions[\u001b[39m'\u001b[39;49m\u001b[39msample_area\u001b[39;49m\u001b[39m'\u001b[39;49m], initial_length\u001b[39m=\u001b[39;49moptions[\u001b[39m'\u001b[39;49m\u001b[39minitial_length\u001b[39;49m\u001b[39m'\u001b[39;49m])\n\u001b[0;32m     94\u001b[0m \u001b[39mprint\u001b[39m(data)\n\u001b[0;32m     95\u001b[0m fit \u001b[39m=\u001b[39m Fit(data)\n",
      "File \u001b[1;32mc:\\Users\\azzarip\\Desktop\\Projects\\Corinna\\extrudion\\extrudion\\analyzers.py:5\u001b[0m, in \u001b[0;36mStressStrain.__init__\u001b[1;34m(self, raw, sample_area, initial_length)\u001b[0m\n\u001b[0;32m      3\u001b[0m \u001b[39mself\u001b[39m\u001b[39m.\u001b[39mraw \u001b[39m=\u001b[39m raw\n\u001b[0;32m      4\u001b[0m \u001b[39mprint\u001b[39m(sample_area, \u001b[39m'\u001b[39m\u001b[39m \u001b[39m\u001b[39m'\u001b[39m, initial_length)\n\u001b[1;32m----> 5\u001b[0m strain \u001b[39m=\u001b[39m \u001b[39mself\u001b[39;49m\u001b[39m.\u001b[39;49mgetStrain(sample_area)\n\u001b[0;32m      6\u001b[0m \u001b[39mprint\u001b[39m(\u001b[39mself\u001b[39m\u001b[39m.\u001b[39mraw)\n\u001b[0;32m      7\u001b[0m stress \u001b[39m=\u001b[39m \u001b[39mself\u001b[39m\u001b[39m.\u001b[39mgetStress(initial_length)\n",
      "File \u001b[1;32mc:\\Users\\azzarip\\Desktop\\Projects\\Corinna\\extrudion\\extrudion\\analyzers.py:17\u001b[0m, in \u001b[0;36mStressStrain.getStrain\u001b[1;34m(self, initial_length)\u001b[0m\n\u001b[0;32m     15\u001b[0m \u001b[39mdef\u001b[39;00m \u001b[39mgetStrain\u001b[39m(\u001b[39mself\u001b[39m, initial_length):\n\u001b[0;32m     16\u001b[0m     \u001b[39mfrom\u001b[39;00m \u001b[39mnumpy\u001b[39;00m \u001b[39mimport\u001b[39;00m log\n\u001b[1;32m---> 17\u001b[0m     length \u001b[39m=\u001b[39m \u001b[39mself\u001b[39;49m\u001b[39m.\u001b[39;49mraw[\u001b[39m'\u001b[39;49m\u001b[39mmm\u001b[39;49m\u001b[39m'\u001b[39;49m] \u001b[39m+\u001b[39;49m initial_length\n\u001b[0;32m     18\u001b[0m     \u001b[39mreturn\u001b[39;00m log(length \u001b[39m/\u001b[39m initial_length)\n",
      "File \u001b[1;32mc:\\Users\\azzarip\\AppData\\Local\\miniconda3\\lib\\site-packages\\pandas\\core\\ops\\common.py:76\u001b[0m, in \u001b[0;36m_unpack_zerodim_and_defer.<locals>.new_method\u001b[1;34m(self, other)\u001b[0m\n\u001b[0;32m     72\u001b[0m             \u001b[39mreturn\u001b[39;00m \u001b[39mNotImplemented\u001b[39m\n\u001b[0;32m     74\u001b[0m other \u001b[39m=\u001b[39m item_from_zerodim(other)\n\u001b[1;32m---> 76\u001b[0m \u001b[39mreturn\u001b[39;00m method(\u001b[39mself\u001b[39;49m, other)\n",
      "File \u001b[1;32mc:\\Users\\azzarip\\AppData\\Local\\miniconda3\\lib\\site-packages\\pandas\\core\\arraylike.py:186\u001b[0m, in \u001b[0;36mOpsMixin.__add__\u001b[1;34m(self, other)\u001b[0m\n\u001b[0;32m     98\u001b[0m \u001b[39m@unpack_zerodim_and_defer\u001b[39m(\u001b[39m\"\u001b[39m\u001b[39m__add__\u001b[39m\u001b[39m\"\u001b[39m)\n\u001b[0;32m     99\u001b[0m \u001b[39mdef\u001b[39;00m \u001b[39m__add__\u001b[39m(\u001b[39mself\u001b[39m, other):\n\u001b[0;32m    100\u001b[0m \u001b[39m    \u001b[39m\u001b[39m\"\"\"\u001b[39;00m\n\u001b[0;32m    101\u001b[0m \u001b[39m    Get Addition of DataFrame and other, column-wise.\u001b[39;00m\n\u001b[0;32m    102\u001b[0m \n\u001b[1;32m   (...)\u001b[0m\n\u001b[0;32m    184\u001b[0m \u001b[39m    moose     3.0     NaN\u001b[39;00m\n\u001b[0;32m    185\u001b[0m \u001b[39m    \"\"\"\u001b[39;00m\n\u001b[1;32m--> 186\u001b[0m     \u001b[39mreturn\u001b[39;00m \u001b[39mself\u001b[39;49m\u001b[39m.\u001b[39;49m_arith_method(other, operator\u001b[39m.\u001b[39;49madd)\n",
      "File \u001b[1;32mc:\\Users\\azzarip\\AppData\\Local\\miniconda3\\lib\\site-packages\\pandas\\core\\series.py:5815\u001b[0m, in \u001b[0;36mSeries._arith_method\u001b[1;34m(self, other, op)\u001b[0m\n\u001b[0;32m   5813\u001b[0m \u001b[39mdef\u001b[39;00m \u001b[39m_arith_method\u001b[39m(\u001b[39mself\u001b[39m, other, op):\n\u001b[0;32m   5814\u001b[0m     \u001b[39mself\u001b[39m, other \u001b[39m=\u001b[39m \u001b[39mself\u001b[39m\u001b[39m.\u001b[39m_align_for_op(other)\n\u001b[1;32m-> 5815\u001b[0m     \u001b[39mreturn\u001b[39;00m base\u001b[39m.\u001b[39;49mIndexOpsMixin\u001b[39m.\u001b[39;49m_arith_method(\u001b[39mself\u001b[39;49m, other, op)\n",
      "File \u001b[1;32mc:\\Users\\azzarip\\AppData\\Local\\miniconda3\\lib\\site-packages\\pandas\\core\\base.py:1381\u001b[0m, in \u001b[0;36mIndexOpsMixin._arith_method\u001b[1;34m(self, other, op)\u001b[0m\n\u001b[0;32m   1378\u001b[0m     rvalues \u001b[39m=\u001b[39m np\u001b[39m.\u001b[39marange(rvalues\u001b[39m.\u001b[39mstart, rvalues\u001b[39m.\u001b[39mstop, rvalues\u001b[39m.\u001b[39mstep)\n\u001b[0;32m   1380\u001b[0m \u001b[39mwith\u001b[39;00m np\u001b[39m.\u001b[39merrstate(\u001b[39mall\u001b[39m\u001b[39m=\u001b[39m\u001b[39m\"\u001b[39m\u001b[39mignore\u001b[39m\u001b[39m\"\u001b[39m):\n\u001b[1;32m-> 1381\u001b[0m     result \u001b[39m=\u001b[39m ops\u001b[39m.\u001b[39;49marithmetic_op(lvalues, rvalues, op)\n\u001b[0;32m   1383\u001b[0m \u001b[39mreturn\u001b[39;00m \u001b[39mself\u001b[39m\u001b[39m.\u001b[39m_construct_result(result, name\u001b[39m=\u001b[39mres_name)\n",
      "File \u001b[1;32mc:\\Users\\azzarip\\AppData\\Local\\miniconda3\\lib\\site-packages\\pandas\\core\\ops\\array_ops.py:285\u001b[0m, in \u001b[0;36marithmetic_op\u001b[1;34m(left, right, op)\u001b[0m\n\u001b[0;32m    281\u001b[0m     _bool_arith_check(op, left, right)  \u001b[39m# type: ignore[arg-type]\u001b[39;00m\n\u001b[0;32m    283\u001b[0m     \u001b[39m# error: Argument 1 to \"_na_arithmetic_op\" has incompatible type\u001b[39;00m\n\u001b[0;32m    284\u001b[0m     \u001b[39m# \"Union[ExtensionArray, ndarray[Any, Any]]\"; expected \"ndarray[Any, Any]\"\u001b[39;00m\n\u001b[1;32m--> 285\u001b[0m     res_values \u001b[39m=\u001b[39m _na_arithmetic_op(left, right, op)  \u001b[39m# type: ignore[arg-type]\u001b[39;00m\n\u001b[0;32m    287\u001b[0m \u001b[39mreturn\u001b[39;00m res_values\n",
      "File \u001b[1;32mc:\\Users\\azzarip\\AppData\\Local\\miniconda3\\lib\\site-packages\\pandas\\core\\ops\\array_ops.py:220\u001b[0m, in \u001b[0;36m_na_arithmetic_op\u001b[1;34m(left, right, op, is_cmp)\u001b[0m\n\u001b[0;32m    217\u001b[0m     func \u001b[39m=\u001b[39m partial(expressions\u001b[39m.\u001b[39mevaluate, op)\n\u001b[0;32m    219\u001b[0m \u001b[39mtry\u001b[39;00m:\n\u001b[1;32m--> 220\u001b[0m     result \u001b[39m=\u001b[39m func(left, right)\n\u001b[0;32m    221\u001b[0m \u001b[39mexcept\u001b[39;00m \u001b[39mTypeError\u001b[39;00m:\n\u001b[0;32m    222\u001b[0m     \u001b[39mif\u001b[39;00m \u001b[39mnot\u001b[39;00m is_cmp \u001b[39mand\u001b[39;00m (\n\u001b[0;32m    223\u001b[0m         left\u001b[39m.\u001b[39mdtype \u001b[39m==\u001b[39m \u001b[39mobject\u001b[39m \u001b[39mor\u001b[39;00m \u001b[39mgetattr\u001b[39m(right, \u001b[39m\"\u001b[39m\u001b[39mdtype\u001b[39m\u001b[39m\"\u001b[39m, \u001b[39mNone\u001b[39;00m) \u001b[39m==\u001b[39m \u001b[39mobject\u001b[39m\n\u001b[0;32m    224\u001b[0m     ):\n\u001b[1;32m   (...)\u001b[0m\n\u001b[0;32m    227\u001b[0m         \u001b[39m# Don't do this for comparisons, as that will handle complex numbers\u001b[39;00m\n\u001b[0;32m    228\u001b[0m         \u001b[39m#  incorrectly, see GH#32047\u001b[39;00m\n",
      "\u001b[1;31mUFuncTypeError\u001b[0m: ufunc 'add' did not contain a loop with signature matching types (dtype('float64'), dtype('<U3')) -> None"
     ]
    }
   ],
   "source": [
    "import extrudion as ex\n",
    "ex.start('.\\data')"
   ]
  },
  {
   "cell_type": "markdown",
   "metadata": {},
   "source": []
  }
 ],
 "metadata": {
  "kernelspec": {
   "display_name": "base",
   "language": "python",
   "name": "python3"
  },
  "language_info": {
   "codemirror_mode": {
    "name": "ipython",
    "version": 3
   },
   "file_extension": ".py",
   "mimetype": "text/x-python",
   "name": "python",
   "nbconvert_exporter": "python",
   "pygments_lexer": "ipython3",
   "version": "3.10.13"
  },
  "orig_nbformat": 4,
  "vscode": {
   "interpreter": {
    "hash": "e5150fadfed99c9aac1952beac983399fa1a48f1d594d4637f06d8c4f4f2fc6f"
   }
  }
 },
 "nbformat": 4,
 "nbformat_minor": 2
}

{
 "cells": [
  {
   "cell_type": "code",
   "execution_count": 7,
   "metadata": {},
   "outputs": [
    {
     "ename": "AttributeError",
     "evalue": "'NoneType' object has no attribute 'slope'",
     "output_type": "error",
     "traceback": [
      "\u001b[1;31m---------------------------------------------------------------------------\u001b[0m",
      "\u001b[1;31mAttributeError\u001b[0m                            Traceback (most recent call last)",
      "Cell \u001b[1;32mIn[7], line 4\u001b[0m\n\u001b[0;32m      2\u001b[0m \u001b[39mimport\u001b[39;00m \u001b[39mnumpy\u001b[39;00m \u001b[39mas\u001b[39;00m \u001b[39mnp\u001b[39;00m\n\u001b[0;32m      3\u001b[0m file \u001b[39m=\u001b[39m ex\u001b[39m.\u001b[39mgetFile(filename\u001b[39m=\u001b[39m\u001b[39m'\u001b[39m\u001b[39m20230918_1.TRA\u001b[39m\u001b[39m'\u001b[39m, folder\u001b[39m=\u001b[39m\u001b[39m'\u001b[39m\u001b[39mdata\u001b[39m\u001b[39m'\u001b[39m)\n\u001b[1;32m----> 4\u001b[0m file2 \u001b[39m=\u001b[39m ex\u001b[39m.\u001b[39;49manalyzeFile(file)\n",
      "File \u001b[1;32mc:\\Users\\azzarip\\Desktop\\Projects\\Corinna\\extrudion\\extrudion\\extrudion.py:41\u001b[0m, in \u001b[0;36manalyzeFile\u001b[1;34m(file, cut_off)\u001b[0m\n\u001b[0;32m     36\u001b[0m \u001b[39m\u001b[39m\u001b[39m'''\u001b[39;00m\n\u001b[0;32m     37\u001b[0m \u001b[39mGive a filename and a folder as a relative or absolute path, the script will analyze the .TAR files found and return a DataFrame containing the results.\u001b[39;00m\n\u001b[0;32m     38\u001b[0m \u001b[39m'''\u001b[39;00m    \n\u001b[0;32m     39\u001b[0m \u001b[39mfrom\u001b[39;00m \u001b[39m.\u001b[39;00m\u001b[39mstress\u001b[39;00m \u001b[39mimport\u001b[39;00m Stress\n\u001b[1;32m---> 41\u001b[0m analysis \u001b[39m=\u001b[39m Stress(file, cut_off)\n\u001b[0;32m     42\u001b[0m analysis\u001b[39m.\u001b[39mplot()\n\u001b[0;32m     44\u001b[0m results \u001b[39m=\u001b[39m analysis\u001b[39m.\u001b[39mresults\n",
      "File \u001b[1;32mc:\\Users\\azzarip\\Desktop\\Projects\\Corinna\\extrudion\\extrudion\\stress.py:16\u001b[0m, in \u001b[0;36mStress.__init__\u001b[1;34m(self, file, cut_off, fit_window)\u001b[0m\n\u001b[0;32m     14\u001b[0m \u001b[39mself\u001b[39m\u001b[39m.\u001b[39mfit_window \u001b[39m=\u001b[39m fit_window\n\u001b[0;32m     15\u001b[0m \u001b[39mself\u001b[39m\u001b[39m.\u001b[39mfit_results \u001b[39m=\u001b[39m \u001b[39mself\u001b[39m\u001b[39m.\u001b[39mgetBestFit()\n\u001b[1;32m---> 16\u001b[0m \u001b[39mself\u001b[39m\u001b[39m.\u001b[39mresults \u001b[39m=\u001b[39m \u001b[39mself\u001b[39;49m\u001b[39m.\u001b[39;49mgetResults()\n",
      "File \u001b[1;32mc:\\Users\\azzarip\\Desktop\\Projects\\Corinna\\extrudion\\extrudion\\stress.py:27\u001b[0m, in \u001b[0;36mStress.getResults\u001b[1;34m(self)\u001b[0m\n\u001b[0;32m     24\u001b[0m \u001b[39mimport\u001b[39;00m \u001b[39mpandas\u001b[39;00m \u001b[39mas\u001b[39;00m \u001b[39mpd\u001b[39;00m\n\u001b[0;32m     26\u001b[0m maxValues \u001b[39m=\u001b[39m \u001b[39mself\u001b[39m\u001b[39m.\u001b[39mdata\u001b[39m.\u001b[39miloc[\u001b[39mself\u001b[39m\u001b[39m.\u001b[39mmax_stress_index]\n\u001b[1;32m---> 27\u001b[0m yieldValues \u001b[39m=\u001b[39m \u001b[39mself\u001b[39;49m\u001b[39m.\u001b[39;49mgetYield()\n\u001b[0;32m     28\u001b[0m \u001b[39mreturn\u001b[39;00m pd\u001b[39m.\u001b[39mDataFrame({\n\u001b[0;32m     29\u001b[0m     \u001b[39m'\u001b[39m\u001b[39mMax Stress [kPa]\u001b[39m\u001b[39m'\u001b[39m: [maxValues[\u001b[39m'\u001b[39m\u001b[39mstress\u001b[39m\u001b[39m'\u001b[39m]],\n\u001b[0;32m     30\u001b[0m     \u001b[39m'\u001b[39m\u001b[39mMax Strain\u001b[39m\u001b[39m'\u001b[39m: [maxValues[\u001b[39m'\u001b[39m\u001b[39mstrain\u001b[39m\u001b[39m'\u001b[39m]], \n\u001b[1;32m   (...)\u001b[0m\n\u001b[0;32m     33\u001b[0m     \u001b[39m'\u001b[39m\u001b[39mYield Stress [kPa]\u001b[39m\u001b[39m'\u001b[39m: [yieldValues[\u001b[39m'\u001b[39m\u001b[39mstress\u001b[39m\u001b[39m'\u001b[39m]],\n\u001b[0;32m     34\u001b[0m     \u001b[39m'\u001b[39m\u001b[39mYield Strain\u001b[39m\u001b[39m'\u001b[39m: [yieldValues[\u001b[39m'\u001b[39m\u001b[39mstrain\u001b[39m\u001b[39m'\u001b[39m]],})\n",
      "File \u001b[1;32mc:\\Users\\azzarip\\Desktop\\Projects\\Corinna\\extrudion\\extrudion\\stress.py:81\u001b[0m, in \u001b[0;36mStress.getYield\u001b[1;34m(self)\u001b[0m\n\u001b[0;32m     79\u001b[0m \u001b[39mdef\u001b[39;00m \u001b[39mgetYield\u001b[39m(\u001b[39mself\u001b[39m):\n\u001b[0;32m     80\u001b[0m     df \u001b[39m=\u001b[39m \u001b[39mself\u001b[39m\u001b[39m.\u001b[39mdata\u001b[39m.\u001b[39mcopy()\n\u001b[1;32m---> 81\u001b[0m     df[\u001b[39m'\u001b[39m\u001b[39merror\u001b[39m\u001b[39m'\u001b[39m] \u001b[39m=\u001b[39m \u001b[39mabs\u001b[39m(df[\u001b[39m'\u001b[39m\u001b[39mstress\u001b[39m\u001b[39m'\u001b[39m] \u001b[39m-\u001b[39m (df[\u001b[39m'\u001b[39m\u001b[39mstrain\u001b[39m\u001b[39m'\u001b[39m]\u001b[39m-\u001b[39m\u001b[39m0.02\u001b[39m)\u001b[39m*\u001b[39m\u001b[39mself\u001b[39;49m\u001b[39m.\u001b[39;49mfit_results\u001b[39m.\u001b[39;49mslope \u001b[39m-\u001b[39m \u001b[39mself\u001b[39m\u001b[39m.\u001b[39mfit_results\u001b[39m.\u001b[39mintercept)\n\u001b[0;32m     82\u001b[0m     yieldValues \u001b[39m=\u001b[39m df[df[\u001b[39m'\u001b[39m\u001b[39merror\u001b[39m\u001b[39m'\u001b[39m] \u001b[39m==\u001b[39m df[\u001b[39m'\u001b[39m\u001b[39merror\u001b[39m\u001b[39m'\u001b[39m]\u001b[39m.\u001b[39mmin()]\u001b[39m.\u001b[39miloc[\u001b[39m0\u001b[39m]\n\u001b[0;32m     83\u001b[0m     \u001b[39mreturn\u001b[39;00m yieldValues\n",
      "\u001b[1;31mAttributeError\u001b[0m: 'NoneType' object has no attribute 'slope'"
     ]
    }
   ],
   "source": [
    "import extrudion as ex\n",
    "import numpy as np\n",
    "file = ex.getFile(filename='20230918_1.TRA', folder='data')\n",
    "file2 = ex.analyzeFile(file)\n"
   ]
  }
 ],
 "metadata": {
  "kernelspec": {
   "display_name": "base",
   "language": "python",
   "name": "python3"
  },
  "language_info": {
   "codemirror_mode": {
    "name": "ipython",
    "version": 3
   },
   "file_extension": ".py",
   "mimetype": "text/x-python",
   "name": "python",
   "nbconvert_exporter": "python",
   "pygments_lexer": "ipython3",
   "version": "3.10.13"
  },
  "orig_nbformat": 4,
  "vscode": {
   "interpreter": {
    "hash": "e5150fadfed99c9aac1952beac983399fa1a48f1d594d4637f06d8c4f4f2fc6f"
   }
  }
 },
 "nbformat": 4,
 "nbformat_minor": 2
}
